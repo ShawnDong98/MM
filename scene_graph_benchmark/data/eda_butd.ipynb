{
 "cells": [
  {
   "cell_type": "code",
   "execution_count": 2,
   "id": "ce5bfb45-acba-48b3-8566-7df2594ba613",
   "metadata": {},
   "outputs": [],
   "source": [
    "import pandas as pd"
   ]
  },
  {
   "cell_type": "code",
   "execution_count": 3,
   "id": "ebae7fb6-750e-45fa-86d7-94058eec1323",
   "metadata": {},
   "outputs": [],
   "source": [
    "import logging\n",
    "import os\n",
    "import os.path as op\n",
    "\n",
    "def generate_lineidx_file(filein, idxout):\n",
    "    idxout_tmp = idxout + '.tmp'\n",
    "    with open(filein, 'r') as tsvin, open(idxout_tmp,'w') as tsvout:\n",
    "        fsize = os.fstat(tsvin.fileno()).st_size\n",
    "        fpos = 0\n",
    "        while fpos!=fsize:\n",
    "            tsvout.write(str(fpos)+\"\\n\")\n",
    "            tsvin.readline()\n",
    "            fpos = tsvin.tell()\n",
    "    os.rename(idxout_tmp, idxout)\n",
    "\n",
    "class TSVFile(object):\n",
    "    def __init__(self, tsv_file, generate_lineidx=False):\n",
    "        self.tsv_file = tsv_file\n",
    "        self.lineidx = op.splitext(tsv_file)[0] + '.lineidx'\n",
    "        self._fp = None\n",
    "        self._lineidx = None\n",
    "        # the process always keeps the process which opens the file. \n",
    "        # If the pid is not equal to the currrent pid, we will re-open the file.\n",
    "        self.pid = None\n",
    "        # generate lineidx if not exist\n",
    "        if not op.isfile(self.lineidx) and generate_lineidx:\n",
    "            generate_lineidx_file(self.tsv_file, self.lineidx)\n",
    "\n",
    "    def __del__(self):\n",
    "        if self._fp:\n",
    "            self._fp.close()\n",
    "\n",
    "    def __str__(self):\n",
    "        return \"TSVFile(tsv_file='{}')\".format(self.tsv_file)\n",
    "\n",
    "    def __repr__(self):\n",
    "        return str(self)\n",
    "\n",
    "    def num_rows(self):\n",
    "        self._ensure_lineidx_loaded()\n",
    "        return len(self._lineidx)\n",
    "\n",
    "    def seek(self, idx):\n",
    "        self._ensure_tsv_opened()\n",
    "        self._ensure_lineidx_loaded()\n",
    "        try:\n",
    "            pos = self._lineidx[idx]\n",
    "        except:\n",
    "            logging.info('{}-{}'.format(self.tsv_file, idx))\n",
    "            raise\n",
    "        self._fp.seek(pos)\n",
    "        return [s.strip() for s in self._fp.readline().split('\\t')]\n",
    "\n",
    "    def seek_first_column(self, idx):\n",
    "        self._ensure_tsv_opened()\n",
    "        self._ensure_lineidx_loaded()\n",
    "        pos = self._lineidx[idx]\n",
    "        self._fp.seek(pos)\n",
    "        print(self._fp)\n",
    "        return read_to_character(self._fp, '\\t')\n",
    "\n",
    "    def __getitem__(self, index):\n",
    "        return self.seek(index)\n",
    "\n",
    "    def __len__(self):\n",
    "        return self.num_rows()\n",
    "\n",
    "    def _ensure_lineidx_loaded(self):\n",
    "        if self._lineidx is None:\n",
    "            logging.info('loading lineidx: {}'.format(self.lineidx))\n",
    "            with open(self.lineidx, 'r') as fp:\n",
    "                self._lineidx = [int(i.strip()) for i in fp.readlines()]\n",
    "\n",
    "    def _ensure_tsv_opened(self):\n",
    "        if self._fp is None:\n",
    "            self._fp = open(self.tsv_file, 'r')\n",
    "            self.pid = os.getpid()\n",
    "\n",
    "        if self.pid != os.getpid():\n",
    "            logging.info('re-open {} because the process id changed'.format(self.tsv_file))\n",
    "            self._fp = open(self.tsv_file, 'r')\n",
    "            self.pid = os.getpid()"
   ]
  },
  {
   "cell_type": "code",
   "execution_count": null,
   "id": "485ca9ab-d498-47ba-9249-33a945b9aa24",
   "metadata": {},
   "outputs": [],
   "source": [
    "img = TSVFile(\"visualgenome/img.tsv\")\n",
    "img.seek(1)"
   ]
  },
  {
   "cell_type": "code",
   "execution_count": 10,
   "id": "4e8156c9-1764-4ca4-9f78-f31200411561",
   "metadata": {},
   "outputs": [
    {
     "data": {
      "text/plain": [
       "['1', '[{\"height\": 600, \"width\": 800}]']"
      ]
     },
     "execution_count": 10,
     "metadata": {},
     "output_type": "execute_result"
    }
   ],
   "source": [
    "hw = TSVFile(\"visualgenome/hw.tsv\")\n",
    "hw.seek(1)"
   ]
  },
  {
   "cell_type": "code",
   "execution_count": 44,
   "id": "6bb5fd4d-f47e-42d3-8441-f717432a3c9e",
   "metadata": {},
   "outputs": [
    {
     "name": "stdout",
     "output_type": "stream",
     "text": [
      "{'objects': [{'class': 'sidewalk', 'rect': [320, 347, 798, 600], 'attributes': ['brick', 'white'], 'attributes_encode': [37, 384]}, {'class': 'building', 'rect': [569, 0, 797, 414], 'attributes': ['brown', 'tall', 'orange'], 'attributes_encode': [41, 357, 224]}, {'class': 'building', 'rect': [171, 0, 429, 319], 'attributes': ['red', 'brown'], 'attributes_encode': [273, 41]}, {'class': 'man', 'rect': [321, 325, 463, 571], 'attributes': ['walking', 'white'], 'attributes_encode': [377, 384]}, {'class': 'pole', 'rect': [423, 0, 472, 533], 'attributes': ['brown'], 'attributes_encode': [41]}, {'class': 'window', 'rect': [649, 68, 743, 233], 'attributes': ['glass'], 'attributes_encode': [137]}, {'class': 'car', 'rect': [240, 354, 367, 462], 'attributes': ['red', 'parked'], 'attributes_encode': [273, 235]}, {'class': 'tree', 'rect': [0, 146, 89, 366], 'attributes': ['green'], 'attributes_encode': [149]}, {'class': 'tree', 'rect': [102, 195, 208, 356], 'attributes': ['green'], 'attributes_encode': [149]}, {'class': 'tree', 'rect': [58, 155, 120, 360], 'attributes': ['green'], 'attributes_encode': [149]}, {'class': 'window', 'rect': [644, 263, 742, 373], 'attributes': ['glass'], 'attributes_encode': [137]}, {'class': 'window', 'rect': [746, 71, 799, 232], 'attributes': ['glass'], 'attributes_encode': [137]}, {'class': 'car', 'rect': [350, 337, 431, 398], 'attributes': ['white'], 'attributes_encode': [384]}, {'class': 'window', 'rect': [750, 264, 799, 371], 'attributes': ['glass'], 'attributes_encode': [137]}, {'class': 'window', 'rect': [631, 73, 649, 243], 'attributes': ['glass'], 'attributes_encode': [137]}, {'class': 'bike', 'rect': [418, 405, 465, 468], 'attributes': [], 'attributes_encode': []}], 'relations': [{'subj_id': 1, 'obj_id': 5, 'class': 'has'}, {'subj_id': 1, 'obj_id': 11, 'class': 'has'}, {'subj_id': 1, 'obj_id': 10, 'class': 'has'}, {'subj_id': 1, 'obj_id': 13, 'class': 'has'}, {'subj_id': 1, 'obj_id': 14, 'class': 'has'}, {'subj_id': 15, 'obj_id': 6, 'class': 'near'}]}\n"
     ]
    }
   ],
   "source": [
    "label = TSVFile(\"visualgenome/label_danfeiX_clipped.new.tsv\")\n",
    "ret = label.seek(1)\n",
    "print(eval(ret[1]))"
   ]
  },
  {
   "cell_type": "code",
   "execution_count": null,
   "id": "5bf7a080-d48c-4d36-8467-84608713abe2",
   "metadata": {},
   "outputs": [],
   "source": [
    "val = TSVFile(\"VizWiz/val.tsv\")\n",
    "val.seek(1)"
   ]
  },
  {
   "cell_type": "code",
   "execution_count": 46,
   "id": "bcb3fb54-0245-4c87-8c99-6760597383d1",
   "metadata": {},
   "outputs": [
    {
     "data": {
      "text/plain": [
       "['VizWiz_val_00002849',\n",
       " '[{\"rect\": [1, 1, 30, 40], \"class\": \"Dog\"}, {\"rect\": [2, 3, 100, 100], \"class\": \"Cat\"}]']"
      ]
     },
     "execution_count": 46,
     "metadata": {},
     "output_type": "execute_result"
    }
   ],
   "source": [
    "val_label = TSVFile(\"VizWiz/val.label.tsv\")\n",
    "val_label.seek(1)"
   ]
  },
  {
   "cell_type": "code",
   "execution_count": 47,
   "id": "bcb3559c-2cdd-4775-9a19-117e34336113",
   "metadata": {},
   "outputs": [
    {
     "data": {
      "text/plain": [
       "['VizWiz_val_00002849', '[{\"height\": 2048, \"width\": 1536}]']"
      ]
     },
     "execution_count": 47,
     "metadata": {},
     "output_type": "execute_result"
    }
   ],
   "source": [
    "val_hw = TSVFile(\"VizWiz/val.hw.tsv\")\n",
    "val_hw.seek(1)"
   ]
  },
  {
   "cell_type": "code",
   "execution_count": 41,
   "id": "0d442710-4ff9-40e6-a039-fa805cb24077",
   "metadata": {},
   "outputs": [
    {
     "name": "stdout",
     "output_type": "stream",
     "text": [
      "(2048,)\n"
     ]
    }
   ],
   "source": [
    "import base64\n",
    "import numpy as np\n",
    "pred = TSVFile(\"../output/X152C5_test/inference/vinvl_vg_x152c4/predictions.tsv\")\n",
    "ret = pred.seek(1)\n",
    "img = ret[0]\n",
    "fields = eval(ret[1].replace('null', 'None'))\n",
    "# print(fields)\n",
    "feature = base64.b64decode(fields['objects'][0]['feature'])\n",
    "print(np.frombuffer(feature, np.float32).shape)"
   ]
  },
  {
   "cell_type": "code",
   "execution_count": 23,
   "id": "55517b05-5b66-4682-9db5-5476544251fc",
   "metadata": {},
   "outputs": [
    {
     "ename": "ImportError",
     "evalue": "attempted relative import with no known parent package",
     "output_type": "error",
     "traceback": [
      "\u001b[0;31m---------------------------------------------------------------------------\u001b[0m",
      "\u001b[0;31mImportError\u001b[0m                               Traceback (most recent call last)",
      "\u001b[0;32m<ipython-input-23-b5ec47abff71>\u001b[0m in \u001b[0;36m<module>\u001b[0;34m\u001b[0m\n\u001b[0;32m----> 1\u001b[0;31m \u001b[0;32mfrom\u001b[0m \u001b[0;34m.\u001b[0m\u001b[0;34m.\u001b[0m\u001b[0mmaskrcnn_benchmark\u001b[0m\u001b[0;34m.\u001b[0m\u001b[0mutils\u001b[0m\u001b[0;34m.\u001b[0m\u001b[0menv\u001b[0m \u001b[0;32mimport\u001b[0m \u001b[0msetup_environment\u001b[0m\u001b[0;34m\u001b[0m\u001b[0;34m\u001b[0m\u001b[0m\n\u001b[0m\u001b[1;32m      2\u001b[0m \u001b[0;34m\u001b[0m\u001b[0m\n\u001b[1;32m      3\u001b[0m \u001b[0;32mimport\u001b[0m \u001b[0mtorch\u001b[0m\u001b[0;34m\u001b[0m\u001b[0;34m\u001b[0m\u001b[0m\n\u001b[1;32m      4\u001b[0m \u001b[0;31m# from ..maskrcnn_benchmark.config import cfg\u001b[0m\u001b[0;34m\u001b[0m\u001b[0;34m\u001b[0m\u001b[0;34m\u001b[0m\u001b[0m\n\u001b[1;32m      5\u001b[0m \u001b[0;31m# from ..scene_graph_benchmark.config import sg_cfg\u001b[0m\u001b[0;34m\u001b[0m\u001b[0;34m\u001b[0m\u001b[0;34m\u001b[0m\u001b[0m\n",
      "\u001b[0;31mImportError\u001b[0m: attempted relative import with no known parent package"
     ]
    }
   ],
   "source": [
    "from ..maskrcnn_benchmark.utils.env import setup_environment\n",
    "\n",
    "import torch\n",
    "from ..maskrcnn_benchmark.config import cfg\n",
    "from ..scene_graph_benchmark.config import sg_cfg\n",
    "from ..maskrcnn_benchmark.data import make_data_loader\n",
    "from ..maskrcnn_benchmark.data.datasets.utils.load_files import config_dataset_file\n",
    "from ..maskrcnn_benchmark.engine.inference import inference\n",
    "from ..scene_graph_benchmark.scene_parser import SceneParser\n",
    "from ..scene_graph_benchmark.AttrRCNN import AttrRCNN\n",
    "from ..maskrcnn_benchmark.utils.checkpoint import DetectronCheckpointer\n",
    "from ..maskrcnn_benchmark.utils.collect_env import collect_env_info\n",
    "from ..maskrcnn_benchmark.utils.comm import synchronize, get_rank\n",
    "from ..maskrcnn_benchmark.utils.logger import setup_logger\n",
    "from ..maskrcnn_benchmark.utils.miscellaneous import mkdir\n",
    "\n",
    "pred_pt = torch.load(\"../output/X152C5_test/inference/vinvl_vg_x152c4/predictions.pth\")\n",
    "print(type(pred_pt))"
   ]
  },
  {
   "cell_type": "code",
   "execution_count": 48,
   "id": "f6cd8a51-0b69-4cf8-913d-f254b6bcb81d",
   "metadata": {},
   "outputs": [
    {
     "ename": "ModuleNotFoundError",
     "evalue": "No module named 'maskrcnn_benchmark'",
     "output_type": "error",
     "traceback": [
      "\u001b[0;31m---------------------------------------------------------------------------\u001b[0m",
      "\u001b[0;31mModuleNotFoundError\u001b[0m                       Traceback (most recent call last)",
      "\u001b[0;32m<ipython-input-48-e834d4cc431d>\u001b[0m in \u001b[0;36m<module>\u001b[0;34m\u001b[0m\n\u001b[1;32m      6\u001b[0m \u001b[0mnp\u001b[0m\u001b[0;34m.\u001b[0m\u001b[0mset_printoptions\u001b[0m\u001b[0;34m(\u001b[0m\u001b[0msuppress\u001b[0m\u001b[0;34m=\u001b[0m\u001b[0;32mTrue\u001b[0m\u001b[0;34m,\u001b[0m \u001b[0mprecision\u001b[0m\u001b[0;34m=\u001b[0m\u001b[0;36m4\u001b[0m\u001b[0;34m)\u001b[0m\u001b[0;34m\u001b[0m\u001b[0;34m\u001b[0m\u001b[0m\n\u001b[1;32m      7\u001b[0m \u001b[0;32mfrom\u001b[0m \u001b[0mos\u001b[0m\u001b[0;34m.\u001b[0m\u001b[0mpath\u001b[0m \u001b[0;32mimport\u001b[0m \u001b[0mjoin\u001b[0m \u001b[0;32mas\u001b[0m \u001b[0mpjoin\u001b[0m\u001b[0;34m\u001b[0m\u001b[0;34m\u001b[0m\u001b[0m\n\u001b[0;32m----> 8\u001b[0;31m \u001b[0;32mfrom\u001b[0m \u001b[0mmaskrcnn_benchmark\u001b[0m\u001b[0;34m.\u001b[0m\u001b[0mstructures\u001b[0m\u001b[0;34m.\u001b[0m\u001b[0mtsv_file_ops\u001b[0m \u001b[0;32mimport\u001b[0m \u001b[0mtsv_reader\u001b[0m\u001b[0;34m,\u001b[0m \u001b[0mtsv_writer\u001b[0m\u001b[0;34m\u001b[0m\u001b[0;34m\u001b[0m\u001b[0m\n\u001b[0m\u001b[1;32m      9\u001b[0m \u001b[0;32mimport\u001b[0m \u001b[0myaml\u001b[0m\u001b[0;34m\u001b[0m\u001b[0;34m\u001b[0m\u001b[0m\n\u001b[1;32m     10\u001b[0m \u001b[0;34m\u001b[0m\u001b[0m\n",
      "\u001b[0;31mModuleNotFoundError\u001b[0m: No module named 'maskrcnn_benchmark'"
     ]
    }
   ],
   "source": []
  },
  {
   "cell_type": "code",
   "execution_count": null,
   "id": "f9aeeaba-0eb3-49b4-a145-d04dde7e2c5a",
   "metadata": {},
   "outputs": [],
   "source": []
  }
 ],
 "metadata": {
  "kernelspec": {
   "display_name": "Python 3",
   "language": "python",
   "name": "python3"
  },
  "language_info": {
   "codemirror_mode": {
    "name": "ipython",
    "version": 3
   },
   "file_extension": ".py",
   "mimetype": "text/x-python",
   "name": "python",
   "nbconvert_exporter": "python",
   "pygments_lexer": "ipython3",
   "version": "3.7.10"
  }
 },
 "nbformat": 4,
 "nbformat_minor": 5
}
