{
 "cells": [
  {
   "cell_type": "markdown",
   "metadata": {},
   "source": [
    "## VINVL input preparation\n",
    "* Requirements: [microsoft sg_benchmark](https://github.com/microsoft/scene_graph_benchmark/blob/main/INSTALL.md) + pandas + yaml\n",
    "* To generate `predictions.tsv` using SG_benchmark, see [this issue](https://github.com/microsoft/scene_graph_benchmark/issues/7#issuecomment-819357369)"
   ]
  },
  {
   "cell_type": "code",
   "execution_count": 2,
   "metadata": {},
   "outputs": [],
   "source": [
    "import pandas as pd\n",
    "import ast\n",
    "import json\n",
    "import base64\n",
    "import numpy as np\n",
    "np.set_printoptions(suppress=True, precision=4)"
   ]
  },
  {
   "cell_type": "markdown",
   "metadata": {},
   "source": [
    "### To feed the data into VinVL's run_captioning.py on COCO, we need to generate:\n",
    "* test.yaml file with:\n",
    "    * test.labels.tsv: labels with confidence intervals\n",
    "        * image_id, [{'class':str, conf: float, 'rect':[x_tl, y_tl, x_br,y_br]},{},...,{}]\n",
    "    * test.feature.tsv: features extracted via sg_benchmark\n",
    "        * image_id, {\"num_boxes\": n, \"features\": concatenated base64-encoded features: 2048 spacial features, 6 additional features*}\n",
    "    * other files in COCO's yaml (test.img.tsv, test.hw.tsv, captions.json) aren't used for inference\n",
    "\n",
    "\n",
    "\n",
    "* 6 additional features (hypothesis): for each bounding box we have: \n",
    "    * [0]: x_top_left/image_w, \n",
    "    * [1]: y_top_left/image_h, \n",
    "    * [2]: x_bottom_right/image_w, \n",
    "    * [3]: y_bottom_right/image_h, \n",
    "    * [4]: box_height/image_h = (x_br - x_tl)/image_h = [2] -[0]\n",
    "    * [5]: (y_br-y_tl)/image_w = [3]-[1]"
   ]
  },
  {
   "cell_type": "markdown",
   "metadata": {},
   "source": [
    "### We need height and width of the pictures"
   ]
  },
  {
   "cell_type": "code",
   "execution_count": 3,
   "metadata": {},
   "outputs": [
    {
     "data": {
      "text/html": [
       "<div>\n",
       "<style scoped>\n",
       "    .dataframe tbody tr th:only-of-type {\n",
       "        vertical-align: middle;\n",
       "    }\n",
       "\n",
       "    .dataframe tbody tr th {\n",
       "        vertical-align: top;\n",
       "    }\n",
       "\n",
       "    .dataframe thead th {\n",
       "        text-align: right;\n",
       "    }\n",
       "</style>\n",
       "<table border=\"1\" class=\"dataframe\">\n",
       "  <thead>\n",
       "    <tr style=\"text-align: right;\">\n",
       "      <th></th>\n",
       "      <th>1</th>\n",
       "    </tr>\n",
       "    <tr>\n",
       "      <th>0</th>\n",
       "      <th></th>\n",
       "    </tr>\n",
       "  </thead>\n",
       "  <tbody>\n",
       "    <tr>\n",
       "      <th>VizWiz_val_00000000</th>\n",
       "      <td>[{'height': 1296, 'width': 968}]</td>\n",
       "    </tr>\n",
       "    <tr>\n",
       "      <th>VizWiz_val_00000001</th>\n",
       "      <td>[{'height': 162, 'width': 121}]</td>\n",
       "    </tr>\n",
       "    <tr>\n",
       "      <th>VizWiz_val_00000002</th>\n",
       "      <td>[{'height': 648, 'width': 484}]</td>\n",
       "    </tr>\n",
       "    <tr>\n",
       "      <th>VizWiz_val_00000003</th>\n",
       "      <td>[{'height': 2592, 'width': 1936}]</td>\n",
       "    </tr>\n",
       "    <tr>\n",
       "      <th>VizWiz_val_00000004</th>\n",
       "      <td>[{'height': 1296, 'width': 968}]</td>\n",
       "    </tr>\n",
       "  </tbody>\n",
       "</table>\n",
       "</div>"
      ],
      "text/plain": [
       "                                                     1\n",
       "0                                                     \n",
       "VizWiz_val_00000000   [{'height': 1296, 'width': 968}]\n",
       "VizWiz_val_00000001    [{'height': 162, 'width': 121}]\n",
       "VizWiz_val_00000002    [{'height': 648, 'width': 484}]\n",
       "VizWiz_val_00000003  [{'height': 2592, 'width': 1936}]\n",
       "VizWiz_val_00000004   [{'height': 1296, 'width': 968}]"
      ]
     },
     "execution_count": 3,
     "metadata": {},
     "output_type": "execute_result"
    }
   ],
   "source": [
    "hw_df = pd.read_csv('./VizWiz/val/val.hw.tsv',sep='\\t',header=None,converters={1:ast.literal_eval},index_col=0)\n",
    "hw_df.head()"
   ]
  },
  {
   "cell_type": "markdown",
   "metadata": {},
   "source": [
    "### We also need `predictions.tsv` with bboxes, its class, confidence and spacial features"
   ]
  },
  {
   "cell_type": "code",
   "execution_count": 4,
   "metadata": {},
   "outputs": [
    {
     "data": {
      "text/plain": [
       "{'rect': [77.09486389160156,\n",
       "  283.3519592285156,\n",
       "  966.3866577148438,\n",
       "  1288.4888916015625],\n",
       " 'bbox_id': 0,\n",
       " 'class': 'computer monitor',\n",
       " 'conf': 0.8116009831428528,\n",
       " 'feature': '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'}"
      ]
     },
     "execution_count": 4,
     "metadata": {},
     "output_type": "execute_result"
    }
   ],
   "source": [
    "sg_tsv = './VizWiz/val_t/predictions.tsv'\n",
    "df = pd.read_csv(sg_tsv,sep='\\t',header = None,converters={1:json.loads})#converters={1:ast.literal_eval})\n",
    "df[1] = df[1].apply(lambda x: x['objects'])\n",
    "\n",
    "#example\n",
    "df.loc[0,1][0]"
   ]
  },
  {
   "cell_type": "code",
   "execution_count": 5,
   "metadata": {},
   "outputs": [],
   "source": [
    "def generate_additional_features(rect,h,w):\n",
    "    mask = np.array([w,h,w,h],dtype=np.float32)\n",
    "    rect = np.clip(rect/mask,0,1)\n",
    "    res = np.hstack((rect,[rect[3]-rect[1], rect[2]-rect[0]]))\n",
    "    return res.astype(np.float32)\n",
    "\n",
    "def generate_features(x):\n",
    "    idx, data,num_boxes = x[0],x[1],len(x[1])\n",
    "    h,w,features_arr = hw_df.loc[idx,1][0]['height'],hw_df.loc[idx,1][0]['width'],[]\n",
    "\n",
    "    for i in range(num_boxes):\n",
    "        features = np.frombuffer(base64.b64decode(data[i]['feature']),np.float32)\n",
    "        pos_feat = generate_additional_features(data[i]['rect'],h,w)\n",
    "        x = np.hstack((features,pos_feat))\n",
    "        features_arr.append(x.astype(np.float32))\n",
    "        \n",
    "    features = np.vstack(tuple(features_arr))\n",
    "    features = base64.b64encode(features).decode(\"utf-8\")\n",
    "    return {\"features\":features, \"num_boxes\":num_boxes}\n",
    "\n",
    "def generate_labels(x):\n",
    "    data = x[1]\n",
    "    res = [{\"class\":el['class'].capitalize(),\"conf\":el['conf'], \"rect\": el['rect']} for el in data] \n",
    "    return res"
   ]
  },
  {
   "cell_type": "code",
   "execution_count": 6,
   "metadata": {},
   "outputs": [],
   "source": [
    "df['feature'] = df.apply(generate_features,axis=1)\n",
    "df['feature'] = df['feature'].apply(json.dumps)\n",
    "\n",
    "df['label'] = df.apply(generate_labels,axis=1)\n",
    "df['label'] = df['label'].apply(json.dumps)"
   ]
  },
  {
   "cell_type": "code",
   "execution_count": 7,
   "metadata": {},
   "outputs": [
    {
     "data": {
      "text/html": [
       "<div>\n",
       "<style scoped>\n",
       "    .dataframe tbody tr th:only-of-type {\n",
       "        vertical-align: middle;\n",
       "    }\n",
       "\n",
       "    .dataframe tbody tr th {\n",
       "        vertical-align: top;\n",
       "    }\n",
       "\n",
       "    .dataframe thead th {\n",
       "        text-align: right;\n",
       "    }\n",
       "</style>\n",
       "<table border=\"1\" class=\"dataframe\">\n",
       "  <thead>\n",
       "    <tr style=\"text-align: right;\">\n",
       "      <th></th>\n",
       "      <th>0</th>\n",
       "      <th>1</th>\n",
       "      <th>feature</th>\n",
       "      <th>label</th>\n",
       "    </tr>\n",
       "  </thead>\n",
       "  <tbody>\n",
       "    <tr>\n",
       "      <th>0</th>\n",
       "      <td>VizWiz_val_00000000</td>\n",
       "      <td>[{'rect': [77.09486389160156, 283.351959228515...</td>\n",
       "      <td>{\"features\": \"mUPGPwAAAAAAAAAAyZWuQAAAAABIMQlB...</td>\n",
       "      <td>[{\"class\": \"Computer monitor\", \"conf\": 0.81160...</td>\n",
       "    </tr>\n",
       "    <tr>\n",
       "      <th>1</th>\n",
       "      <td>VizWiz_val_00000001</td>\n",
       "      <td>[{'rect': [54.770816802978516, 65.501434326171...</td>\n",
       "      <td>{\"features\": \"AAAAAES3GD0AAAAAARisPq5IEz9auG8+...</td>\n",
       "      <td>[{\"class\": \"Hand\", \"conf\": 0.9663493633270264,...</td>\n",
       "    </tr>\n",
       "    <tr>\n",
       "      <th>2</th>\n",
       "      <td>VizWiz_val_00000002</td>\n",
       "      <td>[{'rect': [338.03662109375, 337.77288818359375...</td>\n",
       "      <td>{\"features\": \"pmGkPmQojT4AAAAAwSs/O2Ny7TwAAAAA...</td>\n",
       "      <td>[{\"class\": \"Dog\", \"conf\": 0.9385652542114258, ...</td>\n",
       "    </tr>\n",
       "    <tr>\n",
       "      <th>3</th>\n",
       "      <td>VizWiz_val_00000003</td>\n",
       "      <td>[{'rect': [286.3694763183594, 1483.44934082031...</td>\n",
       "      <td>{\"features\": \"q1N5PQAAAAAAAAAAiI+SQQAAAAAB/Y5A...</td>\n",
       "      <td>[{\"class\": \"Box\", \"conf\": 0.801200270652771, \"...</td>\n",
       "    </tr>\n",
       "    <tr>\n",
       "      <th>4</th>\n",
       "      <td>VizWiz_val_00000004</td>\n",
       "      <td>[{'rect': [789.4127197265625, 256.838256835937...</td>\n",
       "      <td>{\"features\": \"AAAAAAAAAAAAAAAAAAAAAAoY0EAAAAAA...</td>\n",
       "      <td>[{\"class\": \"Cloud\", \"conf\": 0.7336462736129761...</td>\n",
       "    </tr>\n",
       "  </tbody>\n",
       "</table>\n",
       "</div>"
      ],
      "text/plain": [
       "                     0                                                  1  \\\n",
       "0  VizWiz_val_00000000  [{'rect': [77.09486389160156, 283.351959228515...   \n",
       "1  VizWiz_val_00000001  [{'rect': [54.770816802978516, 65.501434326171...   \n",
       "2  VizWiz_val_00000002  [{'rect': [338.03662109375, 337.77288818359375...   \n",
       "3  VizWiz_val_00000003  [{'rect': [286.3694763183594, 1483.44934082031...   \n",
       "4  VizWiz_val_00000004  [{'rect': [789.4127197265625, 256.838256835937...   \n",
       "\n",
       "                                             feature  \\\n",
       "0  {\"features\": \"mUPGPwAAAAAAAAAAyZWuQAAAAABIMQlB...   \n",
       "1  {\"features\": \"AAAAAES3GD0AAAAAARisPq5IEz9auG8+...   \n",
       "2  {\"features\": \"pmGkPmQojT4AAAAAwSs/O2Ny7TwAAAAA...   \n",
       "3  {\"features\": \"q1N5PQAAAAAAAAAAiI+SQQAAAAAB/Y5A...   \n",
       "4  {\"features\": \"AAAAAAAAAAAAAAAAAAAAAAoY0EAAAAAA...   \n",
       "\n",
       "                                               label  \n",
       "0  [{\"class\": \"Computer monitor\", \"conf\": 0.81160...  \n",
       "1  [{\"class\": \"Hand\", \"conf\": 0.9663493633270264,...  \n",
       "2  [{\"class\": \"Dog\", \"conf\": 0.9385652542114258, ...  \n",
       "3  [{\"class\": \"Box\", \"conf\": 0.801200270652771, \"...  \n",
       "4  [{\"class\": \"Cloud\", \"conf\": 0.7336462736129761...  "
      ]
     },
     "execution_count": 7,
     "metadata": {},
     "output_type": "execute_result"
    }
   ],
   "source": [
    "df.head()"
   ]
  },
  {
   "cell_type": "code",
   "execution_count": 12,
   "metadata": {},
   "outputs": [
    {
     "data": {
      "text/plain": [
       "(20540,)"
      ]
     },
     "execution_count": 12,
     "metadata": {},
     "output_type": "execute_result"
    }
   ],
   "source": [
    "np.frombuffer(base64.b64decode(eval(df['feature'][0])['features']),np.float32).shape\n",
    "# print(type(df['feature'][0]))"
   ]
  },
  {
   "cell_type": "markdown",
   "metadata": {},
   "source": [
    "### Write to tsv + generate lineidx"
   ]
  },
  {
   "cell_type": "code",
   "execution_count": 9,
   "metadata": {},
   "outputs": [],
   "source": [
    "import os\n",
    "\n",
    "OUTPUT_DIR = './VizWiz/val_t/'\n",
    "LABEL_FILE = os.path.join(OUTPUT_DIR,'label.tsv')\n",
    "FEATURE_FILE = os.path.join(OUTPUT_DIR,'feature.tsv')\n",
    "if not os.path.exists(OUTPUT_DIR):\n",
    "    os.makedirs(OUTPUT_DIR)\n",
    "    print(f\"path to {OUTPUT_DIR} created\")"
   ]
  },
  {
   "cell_type": "code",
   "execution_count": 10,
   "metadata": {},
   "outputs": [
    {
     "ename": "ModuleNotFoundError",
     "evalue": "No module named 'maskrcnn_benchmark'",
     "output_type": "error",
     "traceback": [
      "\u001b[0;31m---------------------------------------------------------------------------\u001b[0m",
      "\u001b[0;31mModuleNotFoundError\u001b[0m                       Traceback (most recent call last)",
      "\u001b[0;32m<ipython-input-10-32320491e30b>\u001b[0m in \u001b[0;36m<module>\u001b[0;34m\u001b[0m\n\u001b[0;32m----> 1\u001b[0;31m \u001b[0;32mfrom\u001b[0m \u001b[0mmaskrcnn_benchmark\u001b[0m\u001b[0;34m.\u001b[0m\u001b[0mstructures\u001b[0m\u001b[0;34m.\u001b[0m\u001b[0mtsv_file_ops\u001b[0m \u001b[0;32mimport\u001b[0m \u001b[0mtsv_reader\u001b[0m\u001b[0;34m,\u001b[0m \u001b[0mtsv_writer\u001b[0m\u001b[0;34m\u001b[0m\u001b[0;34m\u001b[0m\u001b[0m\n\u001b[0m\u001b[1;32m      2\u001b[0m \u001b[0mtsv_writer\u001b[0m\u001b[0;34m(\u001b[0m\u001b[0mdf\u001b[0m\u001b[0;34m[\u001b[0m\u001b[0;34m[\u001b[0m\u001b[0;36m0\u001b[0m\u001b[0;34m,\u001b[0m\u001b[0;34m'label'\u001b[0m\u001b[0;34m]\u001b[0m\u001b[0;34m]\u001b[0m\u001b[0;34m.\u001b[0m\u001b[0mvalues\u001b[0m\u001b[0;34m.\u001b[0m\u001b[0mtolist\u001b[0m\u001b[0;34m(\u001b[0m\u001b[0;34m)\u001b[0m\u001b[0;34m,\u001b[0m\u001b[0mLABEL_FILE\u001b[0m\u001b[0;34m)\u001b[0m\u001b[0;34m\u001b[0m\u001b[0;34m\u001b[0m\u001b[0m\n\u001b[1;32m      3\u001b[0m \u001b[0mtsv_writer\u001b[0m\u001b[0;34m(\u001b[0m\u001b[0mdf\u001b[0m\u001b[0;34m[\u001b[0m\u001b[0;34m[\u001b[0m\u001b[0;36m0\u001b[0m\u001b[0;34m,\u001b[0m\u001b[0;34m'feature'\u001b[0m\u001b[0;34m]\u001b[0m\u001b[0;34m]\u001b[0m\u001b[0;34m.\u001b[0m\u001b[0mvalues\u001b[0m\u001b[0;34m.\u001b[0m\u001b[0mtolist\u001b[0m\u001b[0;34m(\u001b[0m\u001b[0;34m)\u001b[0m\u001b[0;34m,\u001b[0m\u001b[0mFEATURE_FILE\u001b[0m\u001b[0;34m)\u001b[0m\u001b[0;34m\u001b[0m\u001b[0;34m\u001b[0m\u001b[0m\n",
      "\u001b[0;31mModuleNotFoundError\u001b[0m: No module named 'maskrcnn_benchmark'"
     ]
    }
   ],
   "source": [
    "from maskrcnn_benchmark.structures.tsv_file_ops import tsv_reader, tsv_writer\n",
    "tsv_writer(df[[0,'label']].values.tolist(),LABEL_FILE)\n",
    "tsv_writer(df[[0,'feature']].values.tolist(),FEATURE_FILE)"
   ]
  },
  {
   "cell_type": "markdown",
   "metadata": {},
   "source": [
    "## Generate test.yaml for vinvl run_captioning"
   ]
  },
  {
   "cell_type": "code",
   "execution_count": null,
   "metadata": {},
   "outputs": [],
   "source": [
    "import yaml\n",
    "import os.path as op\n",
    "yaml_dict = {\"label\": \"label.tsv\",\n",
    "             \"feature\": \"features.tsv\"}\n",
    "\n",
    "with open(op.join(OUTPUT_DIR, 'vinvl_test_yaml.yaml'), 'w') as file:\n",
    "        yaml.dump(yaml_dict, file)"
   ]
  },
  {
   "cell_type": "markdown",
   "metadata": {},
   "source": [
    "### Misc: Read generated tsvs"
   ]
  },
  {
   "cell_type": "code",
   "execution_count": null,
   "metadata": {},
   "outputs": [],
   "source": [
    "pd.read_csv('vinvl_demo_images_features_nms_03/inference/feature.tsv',header=None,sep='\\t').shape"
   ]
  },
  {
   "cell_type": "markdown",
   "metadata": {},
   "source": [
    "### Encoding correctness check"
   ]
  },
  {
   "cell_type": "code",
   "execution_count": 35,
   "metadata": {},
   "outputs": [
    {
     "data": {
      "text/plain": [
       "[76.71561431884766, 206.3582763671875, 229.50418090820312, 532.83837890625]"
      ]
     },
     "execution_count": 35,
     "metadata": {},
     "output_type": "execute_result"
    }
   ],
   "source": [
    "df.loc[0,1][0]['rect']"
   ]
  },
  {
   "cell_type": "code",
   "execution_count": 22,
   "metadata": {},
   "outputs": [],
   "source": [
    "features_t = np.frombuffer(base64.b64decode(df.loc[0,'feature']['features']),np.float32).reshape(df.loc[0,'feature']['num_boxes'],-1)\n",
    "features_t.shape"
   ]
  },
  {
   "cell_type": "code",
   "execution_count": 36,
   "metadata": {},
   "outputs": [
    {
     "data": {
      "text/plain": [
       "array([0.0639, 0.2579, 0.1913, 0.666 , 0.4081, 0.1273], dtype=float32)"
      ]
     },
     "execution_count": 36,
     "metadata": {},
     "output_type": "execute_result"
    }
   ],
   "source": [
    "features_t[0,-6:]"
   ]
  },
  {
   "cell_type": "code",
   "execution_count": 31,
   "metadata": {},
   "outputs": [],
   "source": [
    "def reverse_transform(feat,h=800,w=1200):\n",
    "    return feat[:4] * np.array([w,h,w,h])"
   ]
  },
  {
   "cell_type": "code",
   "execution_count": 32,
   "metadata": {},
   "outputs": [
    {
     "data": {
      "text/plain": [
       "array([ 76.7156, 206.3583, 229.5042, 532.8384])"
      ]
     },
     "execution_count": 32,
     "metadata": {},
     "output_type": "execute_result"
    }
   ],
   "source": [
    "reverse_transform(features_t[0,-6:])"
   ]
  },
  {
   "cell_type": "code",
   "execution_count": null,
   "metadata": {},
   "outputs": [],
   "source": []
  }
 ],
 "metadata": {
  "kernelspec": {
   "display_name": "Python 3",
   "language": "python",
   "name": "python3"
  },
  "language_info": {
   "codemirror_mode": {
    "name": "ipython",
    "version": 3
   },
   "file_extension": ".py",
   "mimetype": "text/x-python",
   "name": "python",
   "nbconvert_exporter": "python",
   "pygments_lexer": "ipython3",
   "version": "3.7.10"
  }
 },
 "nbformat": 4,
 "nbformat_minor": 4
}
